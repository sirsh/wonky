{
 "cells": [
  {
   "cell_type": "markdown",
   "metadata": {},
   "source": [
    "# 01 SIMD and data cubes"
   ]
  },
  {
   "cell_type": "code",
   "execution_count": 15,
   "metadata": {},
   "outputs": [
    {
     "data": {
      "text/plain": [
       "(1, 2, 9, 20)"
      ]
     },
     "execution_count": 15,
     "metadata": {},
     "output_type": "execute_result"
    }
   ],
   "source": [
    "import sys\n",
    "sys.path.append(\"../\")\n",
    "import wonky as w\n",
    "import numpy as np\n",
    "import pandas as pd\n",
    "cube = np.load(\"../sample_data/exp/00.npy\")\n",
    "cube.shape\n",
    "#spcies * observables * <x>^n * time intervals "
   ]
  },
  {
   "cell_type": "code",
   "execution_count": 16,
   "metadata": {},
   "outputs": [
    {
     "data": {
      "text/html": [
       "<div>\n",
       "<style>\n",
       "    .dataframe thead tr:only-child th {\n",
       "        text-align: right;\n",
       "    }\n",
       "\n",
       "    .dataframe thead th {\n",
       "        text-align: left;\n",
       "    }\n",
       "\n",
       "    .dataframe tbody tr th {\n",
       "        vertical-align: top;\n",
       "    }\n",
       "</style>\n",
       "<table border=\"1\" class=\"dataframe\">\n",
       "  <thead>\n",
       "    <tr style=\"text-align: right;\">\n",
       "      <th></th>\n",
       "      <th>0</th>\n",
       "      <th>1</th>\n",
       "      <th>2</th>\n",
       "      <th>3</th>\n",
       "      <th>4</th>\n",
       "      <th>5</th>\n",
       "      <th>6</th>\n",
       "      <th>7</th>\n",
       "      <th>8</th>\n",
       "    </tr>\n",
       "  </thead>\n",
       "  <tbody>\n",
       "    <tr>\n",
       "      <th>0</th>\n",
       "      <td>1.0</td>\n",
       "      <td>1.0</td>\n",
       "      <td>1.0</td>\n",
       "      <td>1.0</td>\n",
       "      <td>1.0</td>\n",
       "      <td>1.0</td>\n",
       "      <td>1.0</td>\n",
       "      <td>1.0</td>\n",
       "      <td>1.0</td>\n",
       "    </tr>\n",
       "    <tr>\n",
       "      <th>1</th>\n",
       "      <td>1.0</td>\n",
       "      <td>2.0</td>\n",
       "      <td>4.0</td>\n",
       "      <td>8.0</td>\n",
       "      <td>16.0</td>\n",
       "      <td>32.0</td>\n",
       "      <td>64.0</td>\n",
       "      <td>128.0</td>\n",
       "      <td>256.0</td>\n",
       "    </tr>\n",
       "    <tr>\n",
       "      <th>2</th>\n",
       "      <td>1.0</td>\n",
       "      <td>3.0</td>\n",
       "      <td>9.0</td>\n",
       "      <td>27.0</td>\n",
       "      <td>81.0</td>\n",
       "      <td>243.0</td>\n",
       "      <td>729.0</td>\n",
       "      <td>2187.0</td>\n",
       "      <td>6561.0</td>\n",
       "    </tr>\n",
       "    <tr>\n",
       "      <th>3</th>\n",
       "      <td>1.0</td>\n",
       "      <td>4.0</td>\n",
       "      <td>16.0</td>\n",
       "      <td>64.0</td>\n",
       "      <td>256.0</td>\n",
       "      <td>1024.0</td>\n",
       "      <td>4096.0</td>\n",
       "      <td>16384.0</td>\n",
       "      <td>65536.0</td>\n",
       "    </tr>\n",
       "    <tr>\n",
       "      <th>4</th>\n",
       "      <td>1.0</td>\n",
       "      <td>4.0</td>\n",
       "      <td>16.0</td>\n",
       "      <td>64.0</td>\n",
       "      <td>256.0</td>\n",
       "      <td>1024.0</td>\n",
       "      <td>4096.0</td>\n",
       "      <td>16384.0</td>\n",
       "      <td>65536.0</td>\n",
       "    </tr>\n",
       "  </tbody>\n",
       "</table>\n",
       "</div>"
      ],
      "text/plain": [
       "     0    1     2     3      4       5       6        7        8\n",
       "0  1.0  1.0   1.0   1.0    1.0     1.0     1.0      1.0      1.0\n",
       "1  1.0  2.0   4.0   8.0   16.0    32.0    64.0    128.0    256.0\n",
       "2  1.0  3.0   9.0  27.0   81.0   243.0   729.0   2187.0   6561.0\n",
       "3  1.0  4.0  16.0  64.0  256.0  1024.0  4096.0  16384.0  65536.0\n",
       "4  1.0  4.0  16.0  64.0  256.0  1024.0  4096.0  16384.0  65536.0"
      ]
     },
     "execution_count": 16,
     "metadata": {},
     "output_type": "execute_result"
    }
   ],
   "source": [
    "species, observable = 0,1\n",
    "#view a slice in a dataframe\n",
    "pd.DataFrame(cube[species][observable]).T.head()"
   ]
  },
  {
   "cell_type": "markdown",
   "metadata": {},
   "source": [
    "with numba, it is meaningful to mix vector based and procedural code if we like - wonky stats module updates as follows"
   ]
  },
  {
   "cell_type": "code",
   "execution_count": 17,
   "metadata": {},
   "outputs": [
    {
     "data": {
      "text/plain": [
       "statistics([[[[0., 0., 0., 0., 0., 0., 0., 0., 0., 0., 0., 0., 0., 0.,\n",
       "               0., 0., 0., 0., 0., 0.],\n",
       "              [0., 0., 0., 0., 0., 0., 0., 0., 0., 0., 0., 0., 0., 0.,\n",
       "               0., 0., 0., 0., 0., 0.],\n",
       "              [0., 0., 0., 0., 0., 0., 0., 0., 0., 0., 0., 0., 0., 0.,\n",
       "               0., 0., 0., 0., 0., 0.],\n",
       "              [0., 0., 0., 0., 0., 0., 0., 0., 0., 0., 0., 0., 0., 0.,\n",
       "               0., 0., 0., 0., 0., 0.],\n",
       "              [0., 0., 0., 0., 0., 0., 0., 0., 0., 0., 0., 0., 0., 0.,\n",
       "               0., 0., 0., 0., 0., 0.],\n",
       "              [0., 0., 0., 0., 0., 0., 0., 0., 0., 0., 0., 0., 0., 0.,\n",
       "               0., 0., 0., 0., 0., 0.],\n",
       "              [0., 0., 0., 0., 0., 0., 0., 0., 0., 0., 0., 0., 0., 0.,\n",
       "               0., 0., 0., 0., 0., 0.],\n",
       "              [0., 0., 0., 0., 0., 0., 0., 0., 0., 0., 0., 0., 0., 0.,\n",
       "               0., 0., 0., 0., 0., 0.],\n",
       "              [0., 0., 0., 0., 0., 0., 0., 0., 0., 0., 0., 0., 0., 0.,\n",
       "               0., 0., 0., 0., 0., 0.]],\n",
       "\n",
       "             [[0., 0., 0., 0., 0., 0., 0., 0., 0., 0., 0., 0., 0., 0.,\n",
       "               0., 0., 0., 0., 0., 0.],\n",
       "              [0., 0., 0., 0., 0., 0., 0., 0., 0., 0., 0., 0., 0., 0.,\n",
       "               0., 0., 0., 0., 0., 0.],\n",
       "              [0., 0., 0., 0., 0., 0., 0., 0., 0., 0., 0., 0., 0., 0.,\n",
       "               0., 0., 0., 0., 0., 0.],\n",
       "              [0., 0., 0., 0., 0., 0., 0., 0., 0., 0., 0., 0., 0., 0.,\n",
       "               0., 0., 0., 0., 0., 0.],\n",
       "              [0., 0., 0., 0., 0., 0., 0., 0., 0., 0., 0., 0., 0., 0.,\n",
       "               0., 0., 0., 0., 0., 0.],\n",
       "              [0., 0., 0., 0., 0., 0., 0., 0., 0., 0., 0., 0., 0., 0.,\n",
       "               0., 0., 0., 0., 0., 0.],\n",
       "              [0., 0., 0., 0., 0., 0., 0., 0., 0., 0., 0., 0., 0., 0.,\n",
       "               0., 0., 0., 0., 0., 0.],\n",
       "              [0., 0., 0., 0., 0., 0., 0., 0., 0., 0., 0., 0., 0., 0.,\n",
       "               0., 0., 0., 0., 0., 0.],\n",
       "              [0., 0., 0., 0., 0., 0., 0., 0., 0., 0., 0., 0., 0., 0.,\n",
       "               0., 0., 0., 0., 0., 0.]]]])"
      ]
     },
     "execution_count": 17,
     "metadata": {},
     "output_type": "execute_result"
    }
   ],
   "source": [
    "from numba import jit\n",
    "\n",
    "#statistics would be constructed with a cube shape\n",
    "pseudo_self = w.data.statistics((1,2,20))\n",
    "#stats contains this function, pulled out for inspection\n",
    "@jit\n",
    "def update(self, t, v):\n",
    "    self._counter += v\n",
    "    self._last_t = t\n",
    "    for o in range(self._num_obs):\n",
    "        for s in range(self._num_species):\n",
    "            for m in range(self._num_moments):   \n",
    "                self[s][o][m][t] = self._counter[o][s]**m\n",
    "                \n",
    "pseudo_self"
   ]
  },
  {
   "cell_type": "code",
   "execution_count": 18,
   "metadata": {},
   "outputs": [
    {
     "data": {
      "text/plain": [
       "statistics([[[[  0,   1,   0,   0,   0,   0,   0,   0,   0,   0,   0,\n",
       "                 0,   0,   0,   0,   0,   0,   0,   0,   0],\n",
       "              [  0,   2,   0,   0,   0,   0,   0,   0,   0,   0,   0,\n",
       "                 0,   0,   0,   0,   0,   0,   0,   0,   0],\n",
       "              [  0,   4,   0,   0,   0,   0,   0,   0,   0,   0,   0,\n",
       "                 0,   0,   0,   0,   0,   0,   0,   0,   0],\n",
       "              [  0,   8,   0,   0,   0,   0,   0,   0,   0,   0,   0,\n",
       "                 0,   0,   0,   0,   0,   0,   0,   0,   0],\n",
       "              [  0,  16,   0,   0,   0,   0,   0,   0,   0,   0,   0,\n",
       "                 0,   0,   0,   0,   0,   0,   0,   0,   0],\n",
       "              [  0,  32,   0,   0,   0,   0,   0,   0,   0,   0,   0,\n",
       "                 0,   0,   0,   0,   0,   0,   0,   0,   0],\n",
       "              [  0,  64,   0,   0,   0,   0,   0,   0,   0,   0,   0,\n",
       "                 0,   0,   0,   0,   0,   0,   0,   0,   0],\n",
       "              [  0, 128,   0,   0,   0,   0,   0,   0,   0,   0,   0,\n",
       "                 0,   0,   0,   0,   0,   0,   0,   0,   0],\n",
       "              [  0, 256,   0,   0,   0,   0,   0,   0,   0,   0,   0,\n",
       "                 0,   0,   0,   0,   0,   0,   0,   0,   0]],\n",
       "\n",
       "             [[  0,   1,   0,   0,   0,   0,   0,   0,   0,   0,   0,\n",
       "                 0,   0,   0,   0,   0,   0,   0,   0,   0],\n",
       "              [  0,   1,   0,   0,   0,   0,   0,   0,   0,   0,   0,\n",
       "                 0,   0,   0,   0,   0,   0,   0,   0,   0],\n",
       "              [  0,   1,   0,   0,   0,   0,   0,   0,   0,   0,   0,\n",
       "                 0,   0,   0,   0,   0,   0,   0,   0,   0],\n",
       "              [  0,   1,   0,   0,   0,   0,   0,   0,   0,   0,   0,\n",
       "                 0,   0,   0,   0,   0,   0,   0,   0,   0],\n",
       "              [  0,   1,   0,   0,   0,   0,   0,   0,   0,   0,   0,\n",
       "                 0,   0,   0,   0,   0,   0,   0,   0,   0],\n",
       "              [  0,   1,   0,   0,   0,   0,   0,   0,   0,   0,   0,\n",
       "                 0,   0,   0,   0,   0,   0,   0,   0,   0],\n",
       "              [  0,   1,   0,   0,   0,   0,   0,   0,   0,   0,   0,\n",
       "                 0,   0,   0,   0,   0,   0,   0,   0,   0],\n",
       "              [  0,   1,   0,   0,   0,   0,   0,   0,   0,   0,   0,\n",
       "                 0,   0,   0,   0,   0,   0,   0,   0,   0],\n",
       "              [  0,   1,   0,   0,   0,   0,   0,   0,   0,   0,   0,\n",
       "                 0,   0,   0,   0,   0,   0,   0,   0,   0]]]])"
      ]
     },
     "execution_count": 18,
     "metadata": {},
     "output_type": "execute_result"
    }
   ],
   "source": [
    "#first time it is compiled JIT\n",
    "update(pseudo_self, 1, [ [2], [1] ])\n",
    "pseudo_self.astype(int)"
   ]
  },
  {
   "cell_type": "code",
   "execution_count": 19,
   "metadata": {},
   "outputs": [
    {
     "data": {
      "text/plain": [
       "(array([[[1, 2],\n",
       "         [0, 1]],\n",
       " \n",
       "        [[1, 0],\n",
       "         [0, 0]],\n",
       " \n",
       "        [[1, 0],\n",
       "         [1, 1]],\n",
       " \n",
       "        [[0, 0],\n",
       "         [1, 0]]]), {A: 0, B: 1}, array([0.5, 0.5, 0.5, 0.5]))"
      ]
     },
     "execution_count": 19,
     "metadata": {},
     "output_type": "execute_result"
    }
   ],
   "source": [
    "rsys =  w.reaction.reaction_system([w.reaction(\"A\", \"A+A+B\", 0.5),\n",
    "                                        w.reaction(\"A\", \"0\", 0.5),\n",
    "                                   w.reaction(\"A+B\", \"B\", 0.5),\n",
    "                                        w.reaction(\"B\", \"0\", 0.5)])\n",
    "rsys"
   ]
  },
  {
   "cell_type": "code",
   "execution_count": 20,
   "metadata": {},
   "outputs": [
    {
     "data": {
      "text/plain": [
       "(4, 2, 2)"
      ]
     },
     "execution_count": 20,
     "metadata": {},
     "output_type": "execute_result"
    }
   ],
   "source": [
    "#reactions * species * IO\n",
    "sample_reaction = rsys[0][2]\n",
    "rsys[0].shape"
   ]
  },
  {
   "cell_type": "markdown",
   "metadata": {},
   "source": [
    "## Sample site and then apply creation/annihilation \n",
    "\n",
    "This is almost trivial, merely demonstrates that we can think about the shape of the tensors and construct algorithms in this way"
   ]
  },
  {
   "cell_type": "code",
   "execution_count": 21,
   "metadata": {},
   "outputs": [
    {
     "data": {
      "text/plain": [
       "array([-1,  0])"
      ]
     },
     "execution_count": 21,
     "metadata": {},
     "output_type": "execute_result"
    }
   ],
   "source": [
    "site = np.array([1,1])\n",
    "delta =  sample_reaction[:,1]-sample_reaction[:,0]\n",
    "delta"
   ]
  },
  {
   "cell_type": "code",
   "execution_count": 22,
   "metadata": {},
   "outputs": [
    {
     "data": {
      "text/plain": [
       "array([0, 1])"
      ]
     },
     "execution_count": 22,
     "metadata": {},
     "output_type": "execute_result"
    }
   ],
   "source": [
    "#the reaction reslts in a species vector delta which can be applied to the site\n",
    "site += delta\n",
    "site"
   ]
  },
  {
   "cell_type": "markdown",
   "metadata": {},
   "source": [
    "# 03 Code and data interfaces"
   ]
  },
  {
   "cell_type": "markdown",
   "metadata": {},
   "source": [
    "## Example code interface for simulations"
   ]
  },
  {
   "cell_type": "markdown",
   "metadata": {
    "collapsed": true
   },
   "source": [
    "Good"
   ]
  },
  {
   "cell_type": "code",
   "execution_count": 23,
   "metadata": {
    "collapsed": true
   },
   "outputs": [],
   "source": [
    "def put (lattice,i,species):\n",
    "    lattice[i] |= (1<<species)\n",
    "    return lattice[i]"
   ]
  },
  {
   "cell_type": "markdown",
   "metadata": {},
   "source": [
    "bad "
   ]
  },
  {
   "cell_type": "code",
   "execution_count": 24,
   "metadata": {},
   "outputs": [],
   "source": [
    "def diffuse(i, length, dim):\n",
    "    def __wrapped__(i, idash,length, axis,jump):\n",
    "        boundary = jump * length\n",
    "        if (np.floor(i/boundary)!=np.floor(idash/boundary)):  \n",
    "            return int((idash + boundary) % boundary)\n",
    "        return idash\n",
    "    \n",
    "    print(\"diffusing on a {}x{} lattice\".format(length,dim))\n",
    "    choice = np.random.randint(2*dim)\n",
    "    axis = int(choice/2.)\n",
    "    sense = -1 if choice % 2 == 0 else 1\n",
    "    jump = length**axis\n",
    "    return __wrapped__(i, i + (sense * jump),length,axis,jump*1.)"
   ]
  },
  {
   "cell_type": "markdown",
   "metadata": {},
   "source": [
    "A contrived example of loading functions: using a closure to return functions that have the same interface"
   ]
  },
  {
   "cell_type": "code",
   "execution_count": 25,
   "metadata": {},
   "outputs": [],
   "source": [
    "def diffuse_func_factory(graph_type, *args):\n",
    "    if graph_type == 0:\n",
    "        def __func__(i):\n",
    "            return diffuse(i,*args)\n",
    "        return __func__\n",
    "    if graph_type == 1:\n",
    "        #return another fuction e.g. somethings that loads an adjacency matrix for a scale free network\n",
    "        def __func__(i):\n",
    "            dummy_adj = np.array([[1,2,3,4],\n",
    "                                  [5,6,7,8]])\n",
    "            return np.random.choice(dummy_adj[i])\n",
    "        return __func__"
   ]
  },
  {
   "cell_type": "markdown",
   "metadata": {},
   "source": [
    "for a regular lattice I asked for type 0 with some params and then I hold onto the function"
   ]
  },
  {
   "cell_type": "code",
   "execution_count": 26,
   "metadata": {},
   "outputs": [
    {
     "data": {
      "text/plain": [
       "<function __main__.diffuse_func_factory.<locals>.__func__>"
      ]
     },
     "execution_count": 26,
     "metadata": {},
     "output_type": "execute_result"
    }
   ],
   "source": [
    "my_diffuser = diffuse_func_factory(0, 10,2)\n",
    "#THIS THING IS A FUNCTION\n",
    "my_diffuser"
   ]
  },
  {
   "cell_type": "code",
   "execution_count": 27,
   "metadata": {},
   "outputs": [
    {
     "name": "stdout",
     "output_type": "stream",
     "text": [
      "diffusing on a 10x2 lattice\n"
     ]
    },
    {
     "data": {
      "text/plain": [
       "11"
      ]
     },
     "execution_count": 27,
     "metadata": {},
     "output_type": "execute_result"
    }
   ],
   "source": [
    "#use it by supplying only the site id, I do not need to supply dimensions each time\n",
    "my_diffuser(10)"
   ]
  },
  {
   "cell_type": "code",
   "execution_count": 28,
   "metadata": {},
   "outputs": [
    {
     "data": {
      "text/plain": [
       "7"
      ]
     },
     "execution_count": 28,
     "metadata": {},
     "output_type": "execute_result"
    }
   ],
   "source": [
    "#Or I can use a different graph with the same interface\n",
    "my_diffuser = diffuse_func_factory(1)\n",
    "my_diffuser(1)"
   ]
  },
  {
   "cell_type": "markdown",
   "metadata": {},
   "source": [
    "## Example [data] interface\n",
    "\n",
    "We already saw this with the example cube. Does not matter what the convention is but should be \"dimensionally consistent\" across models and experiments with some metadata to describe the dimensions"
   ]
  },
  {
   "cell_type": "markdown",
   "metadata": {},
   "source": [
    "# 03 Dependency injection\n",
    "Dep injection goes hand in hand with interfaces. For example on loading Wonky, we might use a config file to specify what types of graphs or lattices our diffusion factory should load or we might use conditional imports in python. \n",
    "\n",
    "This is different than putting switch statements in our code because we only \"compile\" the module we want and the code is truly invariant to choice of graph or whatever the thing is. Care required in practice.\n",
    "\n",
    "Key point is to respect modularity, separation of concerns and clean interfaces; for numerical code, this should be employed only in scaffolding phases and not in sim loops! Obviously."
   ]
  },
  {
   "cell_type": "code",
   "execution_count": null,
   "metadata": {
    "collapsed": true
   },
   "outputs": [],
   "source": []
  }
 ],
 "metadata": {
  "kernelspec": {
   "display_name": "Python 3",
   "language": "python",
   "name": "python3"
  },
  "language_info": {
   "codemirror_mode": {
    "name": "ipython",
    "version": 3
   },
   "file_extension": ".py",
   "mimetype": "text/x-python",
   "name": "python",
   "nbconvert_exporter": "python",
   "pygments_lexer": "ipython3",
   "version": "3.6.3"
  }
 },
 "nbformat": 4,
 "nbformat_minor": 2
}
