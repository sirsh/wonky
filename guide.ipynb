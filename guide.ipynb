{
 "cells": [
  {
   "cell_type": "markdown",
   "metadata": {
    "collapsed": true
   },
   "source": [
    "# Guide to Wonky\n"
   ]
  },
  {
   "cell_type": "code",
   "execution_count": 1,
   "metadata": {
    "collapsed": true
   },
   "outputs": [],
   "source": [
    "%matplotlib inline\n",
    "import wonky"
   ]
  },
  {
   "cell_type": "code",
   "execution_count": 83,
   "metadata": {},
   "outputs": [
    {
     "data": {
      "image/png": "[encoded data removed]",
      "text/plain": [
       "<matplotlib.figure.Figure at 0x1a84f7ca278>"
      ]
     },
     "metadata": {},
     "output_type": "display_data"
    }
   ],
   "source": [
    "#list for trace, list for active flag, list for species count per site - capped, list for active particles of type\n",
    "#reactions later will have a fast function that validates a reaction and then we choose one of viable by proportionate rate\n",
    "import numpy as  np\n",
    "from numba import jit\n",
    "\n",
    "class crn(object):\n",
    "    def __init__(self,reaction_system, lattice_size, ICs = [], options={}):\n",
    "        self._num_species = len(reaction_system[1])\n",
    "        self._rsys = reaction_system\n",
    "        self._lattice_size = lattice_size\n",
    "        self._ics = ICs\n",
    "        self._max_time_units = 10# from options\n",
    "            \n",
    "        num_observables, num_increments = 2,10\n",
    "        #self.statistics =  statistics((self._num_species,num_observables,num_increments))     \n",
    "        self.__reset__()\n",
    "                  \n",
    "    def __reset__(self,params={}): \n",
    "        self._lattice_map = wonky.lattice.get_hyper_lattice(*self._lattice_size)\n",
    "        self._trace_map = wonky.lattice.get_hyper_lattice(*self._lattice_size)\n",
    "        self._lattice_sites = wonky.lattice.get_species_counter(*self._lattice_size,self._num_species)  \n",
    "        self._trace_delta_template = np.zeros((self._num_species))\n",
    "        #for performance/simplicity we cheat with the data structure - last two locations are for meta data, count and last-sampled-address\n",
    "        self._active_sites = np.zeros(len(self._trace_map)+2,np.int)  \n",
    "        site = int(len(self._lattice_sites)/2)\n",
    "        for i,s in enumerate(self._ics):\n",
    "            self.put(site,i)\n",
    "            #put as many species as we init with on this site\n",
    "            self._lattice_sites[site][i] = s\n",
    "        \n",
    "        #self.statistics.init()\n",
    "            \n",
    "    def __repr__(self):\n",
    "        return \"{} species, {} reactions on a {} lattice\".format(self._num_species,len(self._rsys[-1]),self._lattice_size)\n",
    "       \n",
    "    #for these maybe i can do multi species in a grid of subplots\n",
    "    def display_lattice(self,species=0):\n",
    "        species = 0\n",
    "        wonky.plotting.grid_display(self._lattice_map,0)\n",
    "        \n",
    "    def display_trace(self,species=0):\n",
    "        species = 0\n",
    "        wonky.plotting.grid_display(self._trace_map,0)\n",
    "        \n",
    "    def lattice_sites(self):\n",
    "        import pandas as pd\n",
    "        return pd.DataFrame(self._lattice_sites)\n",
    "    \n",
    "    def run_experiment(self, ex_options):\n",
    "        for params in range(ex_options.parameter_space):\n",
    "            stats,lattice,trace = self.sample(params) \n",
    "    \n",
    "    #####################\n",
    "    ###Begin manage active sites\n",
    "    #####################\n",
    "    \n",
    "    def __active_site_enter__(i,lattice_map, active_sites):\n",
    "         #site tracking - if we are adding something for the first time, add to active sites\n",
    "        if lattice_map[i] == 0:\n",
    "            active_sites[active_sites[-1]] = i\n",
    "            active_sites[-1] +=1\n",
    "            \n",
    "    def __active_site_exit__(i,lattice_map, active_sites):\n",
    "        #check on visiting site if we are first\n",
    "        if lattice_map[i] == 0:\n",
    "            active_sites[active_sites[-2]] =  active_sites[active_sites[-1] - 1]\n",
    "            active_sites[-1]-=1\n",
    "\n",
    "    def sample_active_site(self):\n",
    "        #pick any active site\n",
    "        r = np.random.randint(self._active_sites[-1])\n",
    "        #record wich one we sampled to manage stack\n",
    "        self._active_sites[-2] = r\n",
    "        return r\n",
    "    \n",
    "    #####################\n",
    "    ###End manage active sites\n",
    "    #####################\n",
    "    \n",
    "    #####################\n",
    "    ###Begin graph interaction\n",
    "    #####################\n",
    "    \n",
    "    def put(self,i,s):\n",
    "        self._trace_delta_template[:] = 0     \n",
    "        crn.__put__(i,s,self._trace_delta_template, self._lattice_map, self._trace_map, self._lattice_sites, self._active_sites)\n",
    "        return self._trace_delta_template\n",
    "        \n",
    "    def __put__(i,s, trace_delta, lattice_map, trace_map, lattice_sites,active_sites): \n",
    "        #puts will mostly be from diffusing to another site but sometimes reactions will put items on existing sites - optimize?\n",
    "        crn.__active_site_enter__(i,lattice_map, active_sites)\n",
    "        wonky.lattice.put(lattice_map, i, s)\n",
    "        lattice_sites[i][s]+=1\n",
    "        if wonky.lattice.get(trace_map, i, s) == 0:\n",
    "            wonky.lattice.put(trace_map, i, s)\n",
    "            trace_delta[s]+=1\n",
    "        \n",
    "    def remove(self,i,s):\n",
    "        d = crn.__remove__(i,s,self._trace_delta_template,self._lattice_map, self._trace_map, self._lattice_sites)\n",
    "        return d\n",
    "        \n",
    "    def __remove__(i,s, trace_delta, lattice_map, trace_map, lattice_sites,active_sites):    \n",
    "        if wonky.lattice.get(lattice_map, i, s) != 0:#check if exists  \n",
    "            lattice_sites[i][s] -= 1 #decrement\n",
    "            if lattice_sites[i][s] == 0: #if i am the last of my kind, remove flag\n",
    "                wonky.lattice.remove(lattice_map, i, s)\n",
    "            return 1\n",
    "        return 0\n",
    "    \n",
    "    #####################\n",
    "    ###End graph interaction\n",
    "    #####################\n",
    "\n",
    "    #####################\n",
    "    ###Primary CRN functions\n",
    "    #####################\n",
    "\n",
    "    def sample(self,params):\n",
    "        self.__reset__(params)\n",
    "        while self._t < self._max_time_units and self._active_site_count > 0:         \n",
    "            i = self.sample_active_site()\n",
    "            delta = crn.__reaction_diffusion_sampler__(i,self._rsys, self._lattice_sites)\n",
    "            trace_delta = crn.__update_sites__(i,delta, \n",
    "                                               self._lattice_map, \n",
    "                                               self._trace_map, \n",
    "                                               self._lattice_sites, \n",
    "                                               self._active_sites,\n",
    "                                               self._lattice_size[0]\n",
    "                                              )\n",
    "            crn.__active_site_exit__(site, net._lattice_map,net._active_sites)\n",
    "            self.statistics.update(self._t, [delta, trace_delta])\n",
    "        self.statistics.flush()\n",
    "        \n",
    "    def __update_sites__(i, delta, lattice_map, trace_map, lattice_sites, active_sites, length, dim=2):  \n",
    "        trace_delta = np.zeros(len(delta))\n",
    "        lattice_site = lattice_sites[i]\n",
    "        for s, c in enumerate(delta):\n",
    "            if c > 0:#case positive changes for species\n",
    "                crn.__put__(i,s, trace_delta, lattice_map, trace_map,lattice_sites,active_sites)\n",
    "                idash = wonky.lattice.diffuse(i, length, dim)\n",
    "                crn.__remove__(i,s, trace_delta, lattice_map, trace_map,lattice_sites,active_sites)\n",
    "                crn.__put__(idash,s, trace_delta, lattice_map, trace_map,lattice_sites,active_sites) \n",
    "            if c < 0:\n",
    "                crn.__remove__(i,s, trace_delta, lattice_map, trace_map,lattice_sites,active_sites)    \n",
    "        return trace_delta\n",
    "\n",
    "    def __reaction_diffusion_sampler__(i, rsystem, lattice_sites):\n",
    "        sys = rsystem[0]\n",
    "        #only reactions for which there are sufficient particles at sites can happen\n",
    "        mask = np.all((lattice_sites[i]-sys[:,:,0]  >= 0) ,axis=1)\n",
    "        viable_subsystem = sys[mask]\n",
    "        rates = rsystem[-1][mask]\n",
    "        rates /= rates.sum()\n",
    "        #choose a reaction from the viable subsystem according to the rates\n",
    "        choice = np.random.choice(len(rates),1,p=rates)[0]\n",
    "        choice = viable_subsystem[choice]\n",
    "        delta = -choice[:,0] + choice[:,1]    \n",
    "        return delta#,trace delta on any site\n",
    "        \n",
    "            \n",
    "rsys =  wonky.reaction.reaction_system([wonky.reaction(\"A\", \"A+A\", 0.5),\n",
    "                                        wonky.reaction(\"A\", \"0\", 0.5)])\n",
    "\n",
    "net = crn(rsys, (9,2), ICs=[1])\n",
    "net.display_lattice(0)"
   ]
  },
  {
   "cell_type": "code",
   "execution_count": 82,
   "metadata": {},
   "outputs": [
    {
     "data": {
      "text/plain": [
       "array([40,  0,  0,  0,  0,  0,  0,  0,  0,  0,  0,  0,  0,  0,  0,  0,  0,\n",
       "        0,  0,  0,  0,  0,  0,  0,  0,  0,  0,  0,  0,  0,  0,  0,  0,  0,\n",
       "        0,  0,  0,  0,  0,  0,  0,  0,  0,  0,  0,  0,  0,  0,  0,  0,  0,\n",
       "        0,  0,  0,  0,  0,  0,  0,  0,  0,  0,  0,  0,  0,  0,  0,  0,  0,\n",
       "        0,  0,  0,  0,  0,  0,  0,  0,  0,  0,  0,  0,  0,  0,  1])"
      ]
     },
     "execution_count": 82,
     "metadata": {},
     "output_type": "execute_result"
    }
   ],
   "source": [
    "net._active_sites\n",
    "#net.sample_active_site()"
   ]
  },
  {
   "cell_type": "code",
   "execution_count": 75,
   "metadata": {},
   "outputs": [
    {
     "data": {
      "text/plain": [
       "array([1])"
      ]
     },
     "execution_count": 75,
     "metadata": {},
     "output_type": "execute_result"
    }
   ],
   "source": [
    "delta = crn.__reaction_diffusion_sampler__(site, net._rsys, net._lattice_sites)\n",
    "delta"
   ]
  },
  {
   "cell_type": "code",
   "execution_count": 76,
   "metadata": {},
   "outputs": [
    {
     "data": {
      "text/plain": [
       "array([40, 39,  0,  0,  0,  0,  0,  0,  0,  0,  0,  0,  0,  0,  0,  0,  0,\n",
       "        0,  0,  0,  0,  0,  0,  0,  0,  0,  0,  0,  0,  0,  0,  0,  0,  0,\n",
       "        0,  0,  0,  0,  0,  0,  0,  0,  0,  0,  0,  0,  0,  0,  0,  0,  0,\n",
       "        0,  0,  0,  0,  0,  0,  0,  0,  0,  0,  0,  0,  0,  0,  0,  0,  0,\n",
       "        0,  0,  0,  0,  0,  0,  0,  0,  0,  0,  0,  0,  0,  0,  2])"
      ]
     },
     "execution_count": 76,
     "metadata": {},
     "output_type": "execute_result"
    }
   ],
   "source": [
    "#simulate sampling the first site - possible inconsistency here - assumtions going in is that site is active!\n",
    "crn.__update_sites__(site,delta, net._lattice_map, net._trace_map, net._lattice_sites, net._active_sites,9)\n",
    "net._active_sites"
   ]
  },
  {
   "cell_type": "code",
   "execution_count": 77,
   "metadata": {},
   "outputs": [
    {
     "data": {
      "image/png": "[encoded data removed]",
      "text/plain": [
       "<matplotlib.figure.Figure at 0x1a84f562f28>"
      ]
     },
     "metadata": {},
     "output_type": "display_data"
    }
   ],
   "source": [
    "net.display_lattice(0)"
   ]
  },
  {
   "cell_type": "code",
   "execution_count": 78,
   "metadata": {},
   "outputs": [
    {
     "data": {
      "image/png": "[encoded data removed]",
      "text/plain": [
       "<matplotlib.figure.Figure at 0x1a84d4eb1d0>"
      ]
     },
     "metadata": {},
     "output_type": "display_data"
    }
   ],
   "source": [
    "net.display_trace(0)"
   ]
  },
  {
   "cell_type": "code",
   "execution_count": 79,
   "metadata": {},
   "outputs": [
    {
     "data": {
      "text/html": [
       "<div>\n",
       "<style>\n",
       "    .dataframe thead tr:only-child th {\n",
       "        text-align: right;\n",
       "    }\n",
       "\n",
       "    .dataframe thead th {\n",
       "        text-align: left;\n",
       "    }\n",
       "\n",
       "    .dataframe tbody tr th {\n",
       "        vertical-align: top;\n",
       "    }\n",
       "</style>\n",
       "<table border=\"1\" class=\"dataframe\">\n",
       "  <thead>\n",
       "    <tr style=\"text-align: right;\">\n",
       "      <th></th>\n",
       "      <th>0</th>\n",
       "    </tr>\n",
       "  </thead>\n",
       "  <tbody>\n",
       "    <tr>\n",
       "      <th>35</th>\n",
       "      <td>0</td>\n",
       "    </tr>\n",
       "    <tr>\n",
       "      <th>36</th>\n",
       "      <td>0</td>\n",
       "    </tr>\n",
       "    <tr>\n",
       "      <th>37</th>\n",
       "      <td>0</td>\n",
       "    </tr>\n",
       "    <tr>\n",
       "      <th>38</th>\n",
       "      <td>0</td>\n",
       "    </tr>\n",
       "    <tr>\n",
       "      <th>39</th>\n",
       "      <td>1</td>\n",
       "    </tr>\n",
       "    <tr>\n",
       "      <th>40</th>\n",
       "      <td>1</td>\n",
       "    </tr>\n",
       "    <tr>\n",
       "      <th>41</th>\n",
       "      <td>0</td>\n",
       "    </tr>\n",
       "    <tr>\n",
       "      <th>42</th>\n",
       "      <td>0</td>\n",
       "    </tr>\n",
       "    <tr>\n",
       "      <th>43</th>\n",
       "      <td>0</td>\n",
       "    </tr>\n",
       "    <tr>\n",
       "      <th>44</th>\n",
       "      <td>0</td>\n",
       "    </tr>\n",
       "    <tr>\n",
       "      <th>45</th>\n",
       "      <td>0</td>\n",
       "    </tr>\n",
       "    <tr>\n",
       "      <th>46</th>\n",
       "      <td>0</td>\n",
       "    </tr>\n",
       "    <tr>\n",
       "      <th>47</th>\n",
       "      <td>0</td>\n",
       "    </tr>\n",
       "    <tr>\n",
       "      <th>48</th>\n",
       "      <td>0</td>\n",
       "    </tr>\n",
       "    <tr>\n",
       "      <th>49</th>\n",
       "      <td>0</td>\n",
       "    </tr>\n",
       "  </tbody>\n",
       "</table>\n",
       "</div>"
      ],
      "text/plain": [
       "    0\n",
       "35  0\n",
       "36  0\n",
       "37  0\n",
       "38  0\n",
       "39  1\n",
       "40  1\n",
       "41  0\n",
       "42  0\n",
       "43  0\n",
       "44  0\n",
       "45  0\n",
       "46  0\n",
       "47  0\n",
       "48  0\n",
       "49  0"
      ]
     },
     "execution_count": 79,
     "metadata": {},
     "output_type": "execute_result"
    }
   ],
   "source": [
    "net.lattice_sites()[35:50]"
   ]
  },
  {
   "cell_type": "code",
   "execution_count": null,
   "metadata": {
    "collapsed": true
   },
   "outputs": [],
   "source": [
    "from numba import jit\n",
    "import numpy as np\n",
    "class experiment_options(dict):\n",
    "    pass\n",
    "\n",
    "class statistics(np.ndarray):   \n",
    "    def __new__(subtype, shape, dtype=float ):\n",
    "        size = list(shape)\n",
    "        size.insert(2,9)\n",
    "        obj = super(statistics, subtype).__new__(subtype, size, dtype)  \n",
    "        obj._num_species = size[0]\n",
    "        obj._num_obs = size[1]\n",
    "        obj._num_moments = size[-2]\n",
    "        obj._num_increments = size[1]\n",
    "        obj._last_t = 0\n",
    "        obj[:] = 0 \n",
    "        return obj\n",
    "\n",
    "    def __init__(self, *args):\n",
    "        pass\n",
    "        \n",
    "    def init():\n",
    "        #and do flush check\n",
    "        return self\n",
    "\n",
    "    def save(self, file=None):\n",
    "        #fastest way to dump the page to disk in a way pandas will be able to get it back\n",
    "        #could put it on another thread and get on with the next chunk but whatever\n",
    "        pass\n",
    "    \n",
    "    @jit\n",
    "    def update(self, t, v):\n",
    "        #convert v from a bit species delta to a counter update\n",
    "        #we have our own internal counter for all t\n",
    "        #if capturing, do the next bit\n",
    "        self._last_t = t\n",
    "        for o in range(self._num_obs):\n",
    "            for s in range(self._num_species):\n",
    "                for m in range(self._num_moments):   \n",
    "                    self[s][o][m][t] = v[s][o]**m\n",
    "                \n",
    "    @jit\n",
    "    def flush(self):\n",
    "        for o in range(self._num_obs):\n",
    "            for s in range(self._num_species):\n",
    "                for m in range(self._num_moments):\n",
    "                    ar = self[s][o][m]\n",
    "                    val = ar[self._last_t]\n",
    "                #then fill all nan values with this last computed value \n",
    "                    self[s][o][m] = val            \n",
    "        self.save()\n",
    "                \n",
    "    \n",
    "#stats module time loop test\n",
    "#create a numpy tensor wrapper with functions and make it avaialble to another object which is itself fast\n",
    "\n",
    " "
   ]
  },
  {
   "cell_type": "code",
   "execution_count": null,
   "metadata": {
    "collapsed": true
   },
   "outputs": [],
   "source": [
    "S = statistics((1,2,10))\n",
    "S.shape"
   ]
  },
  {
   "cell_type": "code",
   "execution_count": null,
   "metadata": {
    "collapsed": true
   },
   "outputs": [],
   "source": [
    "v = [[13,12]]\n",
    "S.update(0, v)"
   ]
  },
  {
   "cell_type": "code",
   "execution_count": null,
   "metadata": {
    "collapsed": true
   },
   "outputs": [],
   "source": [
    "S.flush()\n",
    "S.astype(int)"
   ]
  },
  {
   "cell_type": "code",
   "execution_count": null,
   "metadata": {
    "collapsed": true
   },
   "outputs": [],
   "source": [
    "#Tests\n",
    "#1. active site sampling and replacing\n",
    "#2. subsystem sampling\n",
    "#3. state management i.e. delta updates on sites"
   ]
  },
  {
   "cell_type": "code",
   "execution_count": null,
   "metadata": {
    "collapsed": true
   },
   "outputs": [],
   "source": [
    "size = (100,2)\n",
    "L = get_hyper_lattice(*size)\n",
    "walk_lattice_from(L,size)\n",
    "display(L,size[-1],1)"
   ]
  }
 ],
 "metadata": {
  "kernelspec": {
   "display_name": "Python 3",
   "language": "python",
   "name": "python3"
  },
  "language_info": {
   "codemirror_mode": {
    "name": "ipython",
    "version": 3
   },
   "file_extension": ".py",
   "mimetype": "text/x-python",
   "name": "python",
   "nbconvert_exporter": "python",
   "pygments_lexer": "ipython3",
   "version": "3.6.3"
  }
 },
 "nbformat": 4,
 "nbformat_minor": 2
}
