{
 "cells": [
  {
   "cell_type": "markdown",
   "metadata": {
    "collapsed": true
   },
   "source": [
    "# Guide to Wonky\n"
   ]
  },
  {
   "cell_type": "code",
   "execution_count": 6,
   "metadata": {},
   "outputs": [],
   "source": [
    "import wonky\n",
    "from wonky.models.__test_models__ import test_lattice_interact"
   ]
  },
  {
   "cell_type": "code",
   "execution_count": 1,
   "metadata": {},
   "outputs": [],
   "source": [
    "%matplotlib inline\n",
    "import numpy as np\n",
    "from numba import jit\n",
    "\n",
    "#list for trace, list for active flag, list for species count per site - capped, list for active particles of type\n",
    "#reactions later will have a fast function that validates a reaction and then we choose one of viable by proportionate rate\n",
    "def get_hyper_lattice(lattice,dim):\n",
    "    size = lattice**dim\n",
    "    return np.zeros(size,np.int8)\n",
    "    \n",
    "def put (lattice,i,species):\n",
    "    lattice[i] |= (1<<species)\n",
    "    return lattice[i]\n",
    "\n",
    "def remove(lattice,i,species):\n",
    "    lattice[i] &= ~(1<<species)\n",
    "    return lattice[i]\n",
    "\n",
    "def get (lattice,i,species):\n",
    "    return lattice[i] & (1<<species)\n",
    "\n",
    "@jit\n",
    "def diffuse(i, length, dim):\n",
    "    #this checks that we are on the same partition - jump should be float\n",
    "    #torus: jump in the positive sense and mod by the next partition boundary\n",
    "    def __wrapped__(i, idash,axis,jump):\n",
    "        boundary = jump * length\n",
    "        if (np.floor(i/boundary)!=np.floor(idash/boundary)):  \n",
    "            return int((idash + boundary) % boundary)\n",
    "        return idash\n",
    "    choice = np.random.randint(2*dim)\n",
    "    axis = int(choice/2.)\n",
    "    sense = -1 if choice % 2 == 0 else 1\n",
    "    jump = length**axis\n",
    "    return __wrapped__(i, i + (sense * jump),axis,jump*1.)\n",
    "\n",
    "@jit\n",
    "def walk_lattice_from(lattice, size, i=5550, walk_length=500000):\n",
    "    for n in range(walk_length):\n",
    "        put(lattice,i,1)\n",
    "        i = diffuse(i,*size)   \n",
    "        \n",
    "def display(lattice,dim,species):\n",
    "    from matplotlib import pyplot as plt\n",
    "    shape = np.zeros(dim,np.int)\n",
    "    length = int(len(lattice)**(1/dim))\n",
    "    shape[:] = length\n",
    "    image = np.reshape(lattice,shape)\n",
    "    return plt.imshow(image, \"Blues\")\n"
   ]
  },
  {
   "cell_type": "code",
   "execution_count": 3,
   "metadata": {},
   "outputs": [
    {
     "data": {
      "text/plain": [
       "<matplotlib.image.AxesImage at 0x23a91079710>"
      ]
     },
     "execution_count": 3,
     "metadata": {},
     "output_type": "execute_result"
    },
    {
     "data": {
      "image/png": "[encoded data removed]",
      "text/plain": [
       "<matplotlib.figure.Figure at 0x23a90fc3630>"
      ]
     },
     "metadata": {},
     "output_type": "display_data"
    }
   ],
   "source": [
    "size = (100,2)\n",
    "L = get_hyper_lattice(*size)\n",
    "walk_lattice_from(L,size)\n",
    "display(L,size[-1],1)"
   ]
  },
  {
   "cell_type": "code",
   "execution_count": null,
   "metadata": {
    "collapsed": true
   },
   "outputs": [],
   "source": [
    "#tests\n",
    "#but multiple check values match expectation\n",
    "#bin(r)\n",
    "#int('11110000', 2)\n",
    "\n",
    "r = put(L,0,2)\n",
    "r = put(L,0,3)\n",
    "get(L,0,2)\n",
    "get(L,0,3)\n",
    "get(L,0,4)\n",
    "remove(L,0,3)\n",
    "get(L,0,3)\n"
   ]
  }
 ],
 "metadata": {
  "kernelspec": {
   "display_name": "Python 3",
   "language": "python",
   "name": "python3"
  },
  "language_info": {
   "codemirror_mode": {
    "name": "ipython",
    "version": 3
   },
   "file_extension": ".py",
   "mimetype": "text/x-python",
   "name": "python",
   "nbconvert_exporter": "python",
   "pygments_lexer": "ipython3",
   "version": "3.6.3"
  }
 },
 "nbformat": 4,
 "nbformat_minor": 2
}
