{
 "cells": [
  {
   "cell_type": "markdown",
   "metadata": {
    "collapsed": true
   },
   "source": [
    "# Welcome to Wonky\n",
    "\n",
    "This project demonstrates some generally handy things that might be useful for creating numerics projects in physics, but keeping an eye on importing some best practices etc. from software engineering. \n",
    "\n",
    "These best practices can be relevant when modified slightly but are often overlooked in science. \n",
    "\n",
    "Topics include patterns, scaffolding projects, data managment and \"dev ops for physicists\" all demonsrrated either in the sample project or the notebooks"
   ]
  },
  {
   "cell_type": "code",
   "execution_count": null,
   "metadata": {
    "collapsed": true
   },
   "outputs": [],
   "source": []
  }
 ],
 "metadata": {
  "kernelspec": {
   "display_name": "Python 3",
   "language": "python",
   "name": "python3"
  },
  "language_info": {
   "codemirror_mode": {
    "name": "ipython",
    "version": 3
   },
   "file_extension": ".py",
   "mimetype": "text/x-python",
   "name": "python",
   "nbconvert_exporter": "python",
   "pygments_lexer": "ipython3",
   "version": "3.6.3"
  }
 },
 "nbformat": 4,
 "nbformat_minor": 2
}
